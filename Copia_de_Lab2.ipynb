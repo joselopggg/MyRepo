{
  "nbformat": 4,
  "nbformat_minor": 0,
  "metadata": {
    "colab": {
      "provenance": [],
      "authorship_tag": "ABX9TyOeWwy1EJBqILDLdmd3yLbu",
      "include_colab_link": true
    },
    "kernelspec": {
      "name": "python3",
      "display_name": "Python 3"
    },
    "language_info": {
      "name": "python"
    }
  },
  "cells": [
    {
      "cell_type": "markdown",
      "metadata": {
        "id": "view-in-github",
        "colab_type": "text"
      },
      "source": [
        "<a href=\"https://colab.research.google.com/github/joselopggg/MyRepo/blob/main/Copia_de_Lab2.ipynb\" target=\"_parent\"><img src=\"https://colab.research.google.com/assets/colab-badge.svg\" alt=\"Open In Colab\"/></a>"
      ]
    },
    {
      "cell_type": "code",
      "execution_count": null,
      "metadata": {
        "colab": {
          "base_uri": "https://localhost:8080/"
        },
        "id": "i4ZL7vqADjQm",
        "outputId": "1b5d035d-04ab-4ca2-90b4-25d9c0e7f73c"
      },
      "outputs": [
        {
          "output_type": "stream",
          "name": "stdout",
          "text": [
            "DFS desde A: ['A', 'B', 'D', 'E', 'F', 'C']\n"
          ]
        }
      ],
      "source": [
        "def dfs_recursive(graph, node, visited=None):\n",
        "    \"\"\"\n",
        "    Realiza un recorrido DFS recursivo en el grafo.\n",
        "\n",
        "    :param graph: Diccionario que representa el grafo como lista de adyacencia.\n",
        "    :param node: Nodo inicial para el recorrido.\n",
        "    :param visited: Conjunto para rastrear nodos visitados.\n",
        "    :return: Lista de nodos en el orden en que se visitan.\n",
        "    \"\"\"\n",
        "    if visited is None:\n",
        "        visited = set()  # Inicializar conjunto de nodos visitados\n",
        "\n",
        "    visited.add(node)  # Marcar nodo como visitado\n",
        "    traversal = [node]  # Registrar el nodo actual en el recorrido\n",
        "\n",
        "    for neighbor in graph.get(node, []):  # Explorar vecinos no visitados\n",
        "        if neighbor not in visited:\n",
        "            traversal.extend(dfs_recursive(graph, neighbor, visited))\n",
        "\n",
        "    return traversal\n",
        "\n",
        "\n",
        "# Ejemplo de uso\n",
        "graph = {\n",
        "    \"A\": [\"B\", \"C\"],\n",
        "    \"B\": [\"D\", \"E\"],\n",
        "    \"C\": [\"F\"],\n",
        "    \"D\": [],\n",
        "    \"E\": [\"F\"],\n",
        "    \"F\": []\n",
        "}\n",
        "\n",
        "start_node = \"A\"\n",
        "print(f\"DFS desde {start_node}: {dfs_recursive(graph, start_node)}\")\n"
      ]
    },
    {
      "cell_type": "code",
      "source": [
        "import heapq\n",
        "\n",
        "def a_star(graph, start, goal, heuristic):\n",
        "    \"\"\"\n",
        "    Encuentra el camino más corto en un grafo ponderado usando A*.\n",
        "\n",
        "    :param graph: Diccionario que representa el grafo como lista de adyacencia ponderada.\n",
        "    :param start: Nodo inicial.\n",
        "    :param goal: Nodo objetivo.\n",
        "    :param heuristic: Función heurística h(n).\n",
        "    :return: Camino más corto como lista de nodos.\n",
        "    \"\"\"\n",
        "    priority_queue = []  # Cola de prioridad para A*\n",
        "    heapq.heappush(priority_queue, (0, [start]))  # (f(n), camino actual)\n",
        "    g_costs = {start: 0}  # Costo acumulado desde el inicio\n",
        "\n",
        "    while priority_queue:\n",
        "        current_f, path = heapq.heappop(priority_queue)\n",
        "        current_node = path[-1]\n",
        "\n",
        "        if current_node == goal:  # Verificar si se alcanzó el objetivo\n",
        "            return path\n",
        "\n",
        "        for neighbor, weight in graph.get(current_node, []):\n",
        "            tentative_g = g_costs[current_node] + weight\n",
        "            if neighbor not in g_costs or tentative_g < g_costs[neighbor]:\n",
        "                g_costs[neighbor] = tentative_g\n",
        "                f_cost = tentative_g + heuristic(neighbor, goal)\n",
        "                heapq.heappush(priority_queue, (f_cost, path + [neighbor]))\n",
        "\n",
        "    return None  # No se encontró un camino\n",
        "\n",
        "\n",
        "# Ejemplo de uso\n",
        "graph_weighted = {\n",
        "    \"A\": [(\"B\", 1), (\"C\", 4)],\n",
        "    \"B\": [(\"D\", 2), (\"E\", 5)],\n",
        "    \"C\": [(\"F\", 1)],\n",
        "    \"D\": [],\n",
        "    \"E\": [(\"F\", 1)],\n",
        "    \"F\": []\n",
        "}\n",
        "\n",
        "def heuristic(node, goal):\n",
        "    # Heurística trivial (puede ajustarse)\n",
        "    return 0\n",
        "\n",
        "start_node = \"A\"\n",
        "goal_node = \"F\"\n",
        "print(f\"Camino más corto desde {start_node} a {goal_node}: {a_star(graph_weighted, start_node, goal_node, heuristic)}\")\n"
      ],
      "metadata": {
        "colab": {
          "base_uri": "https://localhost:8080/"
        },
        "id": "usTCbfevEUNq",
        "outputId": "f974b9e9-d09d-499e-88c9-84c9ad9af07a"
      },
      "execution_count": null,
      "outputs": [
        {
          "output_type": "stream",
          "name": "stdout",
          "text": [
            "Camino más corto desde A a F: ['A', 'C', 'F']\n"
          ]
        }
      ]
    }
  ]
}